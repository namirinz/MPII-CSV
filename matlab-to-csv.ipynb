{
 "metadata": {
  "language_info": {
   "codemirror_mode": {
    "name": "ipython",
    "version": 3
   },
   "file_extension": ".py",
   "mimetype": "text/x-python",
   "name": "python",
   "nbconvert_exporter": "python",
   "pygments_lexer": "ipython3",
   "version": "3.8.8"
  },
  "orig_nbformat": 2,
  "kernelspec": {
   "name": "python388jvsc74a57bd0da23f156db370d6476cd4b275f8295dea5585d789dbb88242601121a16fe5911",
   "display_name": "Python 3.8.8 64-bit ('torch_env': conda)"
  },
  "metadata": {
   "interpreter": {
    "hash": "da23f156db370d6476cd4b275f8295dea5585d789dbb88242601121a16fe5911"
   }
  }
 },
 "nbformat": 4,
 "nbformat_minor": 2,
 "cells": [
  {
   "cell_type": "code",
   "execution_count": 1,
   "metadata": {},
   "outputs": [],
   "source": [
    "import numpy as np\n",
    "import pandas as pd\n",
    "from tqdm.notebook import tqdm, trange\n",
    "import scipy.io as sio"
   ]
  },
  {
   "cell_type": "code",
   "execution_count": 2,
   "metadata": {},
   "outputs": [],
   "source": [
    "mat_path = 'mpii_human_pose_v1_u12_2/mpii_human_pose_v1_u12_1.mat'\n",
    "data = sio.loadmat(mat_path, struct_as_record=False)['RELEASE']"
   ]
  },
  {
   "cell_type": "code",
   "execution_count": 3,
   "metadata": {},
   "outputs": [
    {
     "output_type": "stream",
     "name": "stdout",
     "text": [
      "(1, 24987) (1, 24987) (24987, 1) (24987, 1)\n"
     ]
    }
   ],
   "source": [
    "annolist = data[0, 0].__dict__['annolist']\n",
    "img_tra = data[0, 0].__dict__['img_train']\n",
    "person = data[0, 0].__dict__['single_person']\n",
    "act = data[0, 0].__dict__['act']\n",
    "print(annolist.shape, img_tra.shape, person.shape,act.shape)"
   ]
  },
  {
   "cell_type": "code",
   "execution_count": 4,
   "metadata": {},
   "outputs": [
    {
     "output_type": "stream",
     "name": "stdout",
     "text": [
      "1\n"
     ]
    }
   ],
   "source": [
    "print(person[123, 0][0][0]) # number_of_person"
   ]
  },
  {
   "cell_type": "code",
   "execution_count": 5,
   "metadata": {},
   "outputs": [
    {
     "output_type": "stream",
     "name": "stdout",
     "text": [
      "8\n"
     ]
    }
   ],
   "source": [
    "COLS = ['filename', 'xmin', 'ymin', 'xmax', 'ymax', 'scale','activity','category']\n",
    "print(len(COLS))"
   ]
  },
  {
   "cell_type": "code",
   "execution_count": 6,
   "metadata": {},
   "outputs": [
    {
     "output_type": "stream",
     "name": "stdout",
     "text": [
      "16 48\n56\n"
     ]
    }
   ],
   "source": [
    "POINT_COLS = ['right_ankle','right_knee','right_hip', 'left_hip', 'left_knee', 'left_ankle','pelvis','thorax','upper_neck', 'head_top', 'right_wrist','right_elbow', 'right_shoulder','left_shoulder','left_elbow', 'left_wrist']\n",
    "\n",
    "POINT_COLS_x = [item+'_x' for item in POINT_COLS]\n",
    "POINT_COLS_y = [item+'_y' for item in POINT_COLS]\n",
    "POINT_COLS_invis = [item+'_invis' for item in POINT_COLS]\n",
    "\n",
    "POINT_COLS_ = np.append(POINT_COLS_x, [POINT_COLS_y, POINT_COLS_invis])\n",
    "print(len(POINT_COLS), len(POINT_COLS_))\n",
    "\n",
    "COLS_ = np.append(COLS, POINT_COLS_)\n",
    "print(len(COLS_))"
   ]
  },
  {
   "cell_type": "code",
   "execution_count": 7,
   "metadata": {},
   "outputs": [
    {
     "output_type": "stream",
     "name": "stdout",
     "text": [
      "{'filename': [], 'xmin': [], 'ymin': [], 'xmax': [], 'ymax': [], 'scale': [], 'activity': [], 'category': [], 'right_ankle_x': [], 'right_knee_x': [], 'right_hip_x': [], 'left_hip_x': [], 'left_knee_x': [], 'left_ankle_x': [], 'pelvis_x': [], 'thorax_x': [], 'upper_neck_x': [], 'head_top_x': [], 'right_wrist_x': [], 'right_elbow_x': [], 'right_shoulder_x': [], 'left_shoulder_x': [], 'left_elbow_x': [], 'left_wrist_x': [], 'right_ankle_y': [], 'right_knee_y': [], 'right_hip_y': [], 'left_hip_y': [], 'left_knee_y': [], 'left_ankle_y': [], 'pelvis_y': [], 'thorax_y': [], 'upper_neck_y': [], 'head_top_y': [], 'right_wrist_y': [], 'right_elbow_y': [], 'right_shoulder_y': [], 'left_shoulder_y': [], 'left_elbow_y': [], 'left_wrist_y': [], 'right_ankle_invis': [], 'right_knee_invis': [], 'right_hip_invis': [], 'left_hip_invis': [], 'left_knee_invis': [], 'left_ankle_invis': [], 'pelvis_invis': [], 'thorax_invis': [], 'upper_neck_invis': [], 'head_top_invis': [], 'right_wrist_invis': [], 'right_elbow_invis': [], 'right_shoulder_invis': [], 'left_shoulder_invis': [], 'left_elbow_invis': [], 'left_wrist_invis': []}\n"
     ]
    }
   ],
   "source": [
    "dict_item = {key: [] for key in COLS_}\n",
    "print(dict_item)"
   ]
  },
  {
   "cell_type": "code",
   "execution_count": 8,
   "metadata": {},
   "outputs": [
    {
     "output_type": "stream",
     "name": "stdout",
     "text": [
      "1 [[6]]\n2 (1, 1)\n3 [[914]]\n4 [[79]]\n5 [[1031]]\n6 [[221]]\n7 ['070807258.jpg']\n8 [[268]]\n9 {'_fieldnames': ['cat_name', 'act_name', 'act_id'], 'cat_name': array(['sports'], dtype='<U6'), 'act_name': array(['curling'], dtype='<U7'), 'act_id': array([[1]], dtype=uint8)}\n"
     ]
    }
   ],
   "source": [
    "                                # [0, Image ID]\n",
    "print(1, annolist[0, 24984].__dict__['annorect'][0, 0].__dict__['annopoints'][0, 0].__dict__['point'][0, 0].__dict__['id'])\n",
    "\n",
    "# every person\n",
    "print(2,annolist[0, 10].__dict__['annorect'].shape)\n",
    "\n",
    "                                            # [0, num_people]\n",
    "print(3,annolist[0, 6].__dict__['annorect'][0, 0].__dict__['x1'])\n",
    "print(4,annolist[0, 6].__dict__['annorect'][0, 0].__dict__['y1'])\n",
    "print(5,annolist[0, 6].__dict__['annorect'][0, 0].__dict__['x2'])\n",
    "print(6,annolist[0, 6].__dict__['annorect'][0, 1].__dict__['y2'])\n",
    "\n",
    "print(7,annolist[0, 9].__dict__['image'][0, 0].__dict__['name'])\n",
    "\n",
    "print(8,annolist[0, 24984].annorect[0, 0].__dict__['annopoints'][0,0].__dict__['point'][0 ,15].x)\n",
    "\n",
    "# ['cat_name', 'act_name', 'act_id']\n",
    "print(9, act[4, 0].__dict__)"
   ]
  },
  {
   "cell_type": "code",
   "execution_count": 9,
   "metadata": {},
   "outputs": [],
   "source": [
    "keypoint_ = [6, 7, 8, 9, 0, 1, 2, 3, 4, 5, 10, 11, 12, 13, 14, 15]"
   ]
  },
  {
   "cell_type": "code",
   "execution_count": 10,
   "metadata": {
    "tags": []
   },
   "outputs": [
    {
     "output_type": "display_data",
     "data": {
      "text/plain": "  0%|          | 0/24987 [00:00<?, ?it/s]",
      "application/vnd.jupyter.widget-view+json": {
       "version_major": 2,
       "version_minor": 0,
       "model_id": "6bb1c58dd1aa4123b640406d1ed522f4"
      }
     },
     "metadata": {}
    }
   ],
   "source": [
    "for idx in trange(annolist.shape[1]):\n",
    "    if img_tra[0, idx] == 0: continue # test-image\n",
    "\n",
    "    annorect = annolist[0, idx].annorect\n",
    "    if annorect.shape[0]==0: continue\n",
    "    num_person = annorect.shape[1]\n",
    "\n",
    "    for i_person in range(num_person):\n",
    "        annorect_person = annorect[0, i_person]\n",
    "\n",
    "        if 'annopoints' not in annorect_person._fieldnames: continue\n",
    "        annopoints = annorect_person.annopoints\n",
    "        if annopoints.shape[0]== 0: continue\n",
    "        point = annopoints[0, 0].point\n",
    "\n",
    "        filename = annolist[0, idx].image[0, 0].name[0]\n",
    "        dict_item['filename'].append(filename)\n",
    "\n",
    "        # BBOX\n",
    "        xmin = annorect_person.x1[0][0]\n",
    "        dict_item['xmin'].append(xmin)\n",
    "        ymin = annorect_person.y1[0][0]\n",
    "        dict_item['ymin'].append(ymin)\n",
    "        xmax = annorect_person.x2[0][0]\n",
    "        dict_item['xmax'].append(xmax) \n",
    "        ymax = annorect_person.y2[0][0]\n",
    "        dict_item['ymax'].append(ymax)\n",
    "\n",
    "        scale = annorect_person.scale[0][0]\n",
    "        dict_item['scale'].append(scale)\n",
    "\n",
    "        if len(act[idx, 0].act_name) != 0: \n",
    "            activity = act[idx, 0].act_name[0]\n",
    "            category = act[idx, 0].cat_name[0]\n",
    "        else:\n",
    "            activity = None\n",
    "            category = None\n",
    "\n",
    "        dict_item['activity'].append(activity)        \n",
    "        dict_item['category'].append(category)\n",
    "        \n",
    "        for idx_keypoint, i_keypoint in enumerate(keypoint_):\n",
    "            if idx_keypoint >= point.shape[1]:\n",
    "                joint_name = POINT_COLS[i_keypoint]\n",
    "                dict_item[joint_name+'_x'].append(0)\n",
    "                dict_item[joint_name+'_y'].append(0)\n",
    "                dict_item[joint_name+'_invis'].append(0)\n",
    "                continue\n",
    "\n",
    "            point_i=  point[0, idx_keypoint]\n",
    "            point_id = point_i.id[0][0]\n",
    "\n",
    "            if i_keypoint != point_id:\n",
    "                joint_name = POINT_COLS[i_keypoint]\n",
    "                dict_item[joint_name+'_x'].append(0)\n",
    "                dict_item[joint_name+'_y'].append(0)\n",
    "                dict_item[joint_name+'_invis'].append(0)\n",
    "                continue\n",
    "\n",
    "            point_x = point_i.x[0][0]\n",
    "            point_y = point_i.y[0][0]\n",
    "            \n",
    "            \n",
    "            if 'is_visible' not in point_i._fieldnames:\n",
    "                point_isvis = 0\n",
    "            elif len(point_i.is_visible) != 0:\n",
    "                point_isvis = point_i.is_visible[0][0]\n",
    "            else : point_isvis = 0\n",
    "            \n",
    "            joint_name = POINT_COLS[point_id]\n",
    "            dict_item[joint_name+'_x'].append(point_x)\n",
    "            dict_item[joint_name+'_y'].append(point_y)\n",
    "            dict_item[joint_name+'_invis'].append(point_isvis)"
   ]
  },
  {
   "cell_type": "code",
   "execution_count": 11,
   "metadata": {},
   "outputs": [
    {
     "output_type": "stream",
     "name": "stdout",
     "text": [
      "filename 28883\nxmin 28883\nymin 28883\nxmax 28883\nymax 28883\nscale 28883\nactivity 28883\ncategory 28883\nright_ankle_x 28883\nright_knee_x 28883\nright_hip_x 28883\nleft_hip_x 28883\nleft_knee_x 28883\nleft_ankle_x 28883\npelvis_x 28883\nthorax_x 28883\nupper_neck_x 28883\nhead_top_x 28883\nright_wrist_x 28883\nright_elbow_x 28883\nright_shoulder_x 28883\nleft_shoulder_x 28883\nleft_elbow_x 28883\nleft_wrist_x 28883\nright_ankle_y 28883\nright_knee_y 28883\nright_hip_y 28883\nleft_hip_y 28883\nleft_knee_y 28883\nleft_ankle_y 28883\npelvis_y 28883\nthorax_y 28883\nupper_neck_y 28883\nhead_top_y 28883\nright_wrist_y 28883\nright_elbow_y 28883\nright_shoulder_y 28883\nleft_shoulder_y 28883\nleft_elbow_y 28883\nleft_wrist_y 28883\nright_ankle_invis 28883\nright_knee_invis 28883\nright_hip_invis 28883\nleft_hip_invis 28883\nleft_knee_invis 28883\nleft_ankle_invis 28883\npelvis_invis 28883\nthorax_invis 28883\nupper_neck_invis 28883\nhead_top_invis 28883\nright_wrist_invis 28883\nright_elbow_invis 28883\nright_shoulder_invis 28883\nleft_shoulder_invis 28883\nleft_elbow_invis 28883\nleft_wrist_invis 28883\n"
     ]
    }
   ],
   "source": [
    "for key, value in dict_item.items():\n",
    "    print(key, len(value))"
   ]
  },
  {
   "cell_type": "code",
   "execution_count": 12,
   "metadata": {},
   "outputs": [],
   "source": [
    "df = pd.DataFrame(dict_item)"
   ]
  },
  {
   "cell_type": "code",
   "execution_count": 13,
   "metadata": {},
   "outputs": [
    {
     "output_type": "execute_result",
     "data": {
      "text/plain": [
       "        filename  xmin  ymin  xmax  ymax     scale activity category  \\\n",
       "0  015601864.jpg   627   100   706   198  3.021046  curling   sports   \n",
       "1  015601864.jpg   841   145   902   228  2.472117  curling   sports   \n",
       "2  015599452.jpg   607    70   752   255  5.641276  curling   sports   \n",
       "3  015599452.jpg   903    73  1070   263  6.071051  curling   sports   \n",
       "4  015599452.jpg    27    36   186   214  5.728162  curling   sports   \n",
       "\n",
       "   right_ankle_x  right_knee_x  ...  pelvis_invis  thorax_invis  \\\n",
       "0            620           616  ...             0             1   \n",
       "1            895           910  ...             0             0   \n",
       "2              0             0  ...             0             0   \n",
       "3              0             0  ...             0             0   \n",
       "4              0             0  ...             0             0   \n",
       "\n",
       "   upper_neck_invis  head_top_invis  right_wrist_invis  right_elbow_invis  \\\n",
       "0                 0               0                  1                  1   \n",
       "1                 0               0                  1                  1   \n",
       "2                 0               0                  0                  0   \n",
       "3                 0               0                  0                  0   \n",
       "4                 0               0                  0                  0   \n",
       "\n",
       "   right_shoulder_invis  left_shoulder_invis  left_elbow_invis  \\\n",
       "0                     1                    1                 1   \n",
       "1                     0                    1                 1   \n",
       "2                     0                    0                 0   \n",
       "3                     0                    0                 0   \n",
       "4                     0                    0                 0   \n",
       "\n",
       "   left_wrist_invis  \n",
       "0                 1  \n",
       "1                 1  \n",
       "2                 0  \n",
       "3                 0  \n",
       "4                 0  \n",
       "\n",
       "[5 rows x 56 columns]"
      ],
      "text/html": "<div>\n<style scoped>\n    .dataframe tbody tr th:only-of-type {\n        vertical-align: middle;\n    }\n\n    .dataframe tbody tr th {\n        vertical-align: top;\n    }\n\n    .dataframe thead th {\n        text-align: right;\n    }\n</style>\n<table border=\"1\" class=\"dataframe\">\n  <thead>\n    <tr style=\"text-align: right;\">\n      <th></th>\n      <th>filename</th>\n      <th>xmin</th>\n      <th>ymin</th>\n      <th>xmax</th>\n      <th>ymax</th>\n      <th>scale</th>\n      <th>activity</th>\n      <th>category</th>\n      <th>right_ankle_x</th>\n      <th>right_knee_x</th>\n      <th>...</th>\n      <th>pelvis_invis</th>\n      <th>thorax_invis</th>\n      <th>upper_neck_invis</th>\n      <th>head_top_invis</th>\n      <th>right_wrist_invis</th>\n      <th>right_elbow_invis</th>\n      <th>right_shoulder_invis</th>\n      <th>left_shoulder_invis</th>\n      <th>left_elbow_invis</th>\n      <th>left_wrist_invis</th>\n    </tr>\n  </thead>\n  <tbody>\n    <tr>\n      <th>0</th>\n      <td>015601864.jpg</td>\n      <td>627</td>\n      <td>100</td>\n      <td>706</td>\n      <td>198</td>\n      <td>3.021046</td>\n      <td>curling</td>\n      <td>sports</td>\n      <td>620</td>\n      <td>616</td>\n      <td>...</td>\n      <td>0</td>\n      <td>1</td>\n      <td>0</td>\n      <td>0</td>\n      <td>1</td>\n      <td>1</td>\n      <td>1</td>\n      <td>1</td>\n      <td>1</td>\n      <td>1</td>\n    </tr>\n    <tr>\n      <th>1</th>\n      <td>015601864.jpg</td>\n      <td>841</td>\n      <td>145</td>\n      <td>902</td>\n      <td>228</td>\n      <td>2.472117</td>\n      <td>curling</td>\n      <td>sports</td>\n      <td>895</td>\n      <td>910</td>\n      <td>...</td>\n      <td>0</td>\n      <td>0</td>\n      <td>0</td>\n      <td>0</td>\n      <td>1</td>\n      <td>1</td>\n      <td>0</td>\n      <td>1</td>\n      <td>1</td>\n      <td>1</td>\n    </tr>\n    <tr>\n      <th>2</th>\n      <td>015599452.jpg</td>\n      <td>607</td>\n      <td>70</td>\n      <td>752</td>\n      <td>255</td>\n      <td>5.641276</td>\n      <td>curling</td>\n      <td>sports</td>\n      <td>0</td>\n      <td>0</td>\n      <td>...</td>\n      <td>0</td>\n      <td>0</td>\n      <td>0</td>\n      <td>0</td>\n      <td>0</td>\n      <td>0</td>\n      <td>0</td>\n      <td>0</td>\n      <td>0</td>\n      <td>0</td>\n    </tr>\n    <tr>\n      <th>3</th>\n      <td>015599452.jpg</td>\n      <td>903</td>\n      <td>73</td>\n      <td>1070</td>\n      <td>263</td>\n      <td>6.071051</td>\n      <td>curling</td>\n      <td>sports</td>\n      <td>0</td>\n      <td>0</td>\n      <td>...</td>\n      <td>0</td>\n      <td>0</td>\n      <td>0</td>\n      <td>0</td>\n      <td>0</td>\n      <td>0</td>\n      <td>0</td>\n      <td>0</td>\n      <td>0</td>\n      <td>0</td>\n    </tr>\n    <tr>\n      <th>4</th>\n      <td>015599452.jpg</td>\n      <td>27</td>\n      <td>36</td>\n      <td>186</td>\n      <td>214</td>\n      <td>5.728162</td>\n      <td>curling</td>\n      <td>sports</td>\n      <td>0</td>\n      <td>0</td>\n      <td>...</td>\n      <td>0</td>\n      <td>0</td>\n      <td>0</td>\n      <td>0</td>\n      <td>0</td>\n      <td>0</td>\n      <td>0</td>\n      <td>0</td>\n      <td>0</td>\n      <td>0</td>\n    </tr>\n  </tbody>\n</table>\n<p>5 rows × 56 columns</p>\n</div>"
     },
     "metadata": {},
     "execution_count": 13
    }
   ],
   "source": [
    "df.head()"
   ]
  },
  {
   "cell_type": "code",
   "execution_count": 15,
   "metadata": {},
   "outputs": [],
   "source": [
    "df.to_csv('train_mpii_datasets.csv', index=False)"
   ]
  }
 ]
}